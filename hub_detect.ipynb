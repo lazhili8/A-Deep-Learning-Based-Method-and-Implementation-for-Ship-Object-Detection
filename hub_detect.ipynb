{
 "cells": [
  {
   "cell_type": "code",
   "execution_count": 17,
   "metadata": {
    "collapsed": true
   },
   "outputs": [
    {
     "ename": "ValueError",
     "evalue": "not enough values to unpack (expected 2, got 1)",
     "output_type": "error",
     "traceback": [
      "\u001B[1;31m---------------------------------------------------------------------------\u001B[0m",
      "\u001B[1;31mValueError\u001B[0m                                Traceback (most recent call last)",
      "Cell \u001B[1;32mIn[17], line 2\u001B[0m\n\u001B[0;32m      1\u001B[0m \u001B[38;5;28;01mimport\u001B[39;00m \u001B[38;5;21;01mtorch\u001B[39;00m\n\u001B[1;32m----> 2\u001B[0m model \u001B[38;5;241m=\u001B[39m \u001B[43mtorch\u001B[49m\u001B[38;5;241;43m.\u001B[39;49m\u001B[43mhub\u001B[49m\u001B[38;5;241;43m.\u001B[39;49m\u001B[43mload\u001B[49m\u001B[43m(\u001B[49m\u001B[38;5;124;43m'\u001B[39;49m\u001B[38;5;124;43myour_project_directory\u001B[39;49m\u001B[38;5;124;43m'\u001B[39;49m\u001B[43m,\u001B[49m\u001B[43m \u001B[49m\u001B[38;5;124;43m'\u001B[39;49m\u001B[38;5;124;43myolo\u001B[39;49m\u001B[38;5;124;43m'\u001B[39;49m\u001B[43m,\u001B[49m\u001B[43m \u001B[49m\u001B[43mpretrained\u001B[49m\u001B[38;5;241;43m=\u001B[39;49m\u001B[38;5;28;43;01mTrue\u001B[39;49;00m\u001B[43m,\u001B[49m\u001B[43m \u001B[49m\u001B[43mweights_path\u001B[49m\u001B[38;5;241;43m=\u001B[39;49m\u001B[38;5;124;43m'\u001B[39;49m\u001B[38;5;124;43mlogs/best_epoch_weights.pth\u001B[39;49m\u001B[38;5;124;43m'\u001B[39;49m\u001B[43m)\u001B[49m\n\u001B[0;32m      5\u001B[0m img \u001B[38;5;241m=\u001B[39m \u001B[38;5;124m\"\u001B[39m\u001B[38;5;124mVOCdevkit/VOC2007/JPEGImages/P0001_0_800_7200_8000.jpg\u001B[39m\u001B[38;5;124m\"\u001B[39m\n\u001B[0;32m      8\u001B[0m results \u001B[38;5;241m=\u001B[39m model(img)\n",
      "File \u001B[1;32m~\\anaconda3\\envs\\YOLOv7_HRSIDwithgui\\lib\\site-packages\\torch\\hub.py:563\u001B[0m, in \u001B[0;36mload\u001B[1;34m(repo_or_dir, model, source, trust_repo, force_reload, verbose, skip_validation, *args, **kwargs)\u001B[0m\n\u001B[0;32m    559\u001B[0m     \u001B[38;5;28;01mraise\u001B[39;00m \u001B[38;5;167;01mValueError\u001B[39;00m(\n\u001B[0;32m    560\u001B[0m         \u001B[38;5;124mf\u001B[39m\u001B[38;5;124m'\u001B[39m\u001B[38;5;124mUnknown source: \u001B[39m\u001B[38;5;124m\"\u001B[39m\u001B[38;5;132;01m{\u001B[39;00msource\u001B[38;5;132;01m}\u001B[39;00m\u001B[38;5;124m\"\u001B[39m\u001B[38;5;124m. Allowed values: \u001B[39m\u001B[38;5;124m\"\u001B[39m\u001B[38;5;124mgithub\u001B[39m\u001B[38;5;124m\"\u001B[39m\u001B[38;5;124m | \u001B[39m\u001B[38;5;124m\"\u001B[39m\u001B[38;5;124mlocal\u001B[39m\u001B[38;5;124m\"\u001B[39m\u001B[38;5;124m.\u001B[39m\u001B[38;5;124m'\u001B[39m)\n\u001B[0;32m    562\u001B[0m \u001B[38;5;28;01mif\u001B[39;00m source \u001B[38;5;241m==\u001B[39m \u001B[38;5;124m'\u001B[39m\u001B[38;5;124mgithub\u001B[39m\u001B[38;5;124m'\u001B[39m:\n\u001B[1;32m--> 563\u001B[0m     repo_or_dir \u001B[38;5;241m=\u001B[39m \u001B[43m_get_cache_or_reload\u001B[49m\u001B[43m(\u001B[49m\u001B[43mrepo_or_dir\u001B[49m\u001B[43m,\u001B[49m\u001B[43m \u001B[49m\u001B[43mforce_reload\u001B[49m\u001B[43m,\u001B[49m\u001B[43m \u001B[49m\u001B[43mtrust_repo\u001B[49m\u001B[43m,\u001B[49m\u001B[43m \u001B[49m\u001B[38;5;124;43m\"\u001B[39;49m\u001B[38;5;124;43mload\u001B[39;49m\u001B[38;5;124;43m\"\u001B[39;49m\u001B[43m,\u001B[49m\n\u001B[0;32m    564\u001B[0m \u001B[43m                                       \u001B[49m\u001B[43mverbose\u001B[49m\u001B[38;5;241;43m=\u001B[39;49m\u001B[43mverbose\u001B[49m\u001B[43m,\u001B[49m\u001B[43m \u001B[49m\u001B[43mskip_validation\u001B[49m\u001B[38;5;241;43m=\u001B[39;49m\u001B[43mskip_validation\u001B[49m\u001B[43m)\u001B[49m\n\u001B[0;32m    566\u001B[0m model \u001B[38;5;241m=\u001B[39m _load_local(repo_or_dir, model, \u001B[38;5;241m*\u001B[39margs, \u001B[38;5;241m*\u001B[39m\u001B[38;5;241m*\u001B[39mkwargs)\n\u001B[0;32m    567\u001B[0m \u001B[38;5;28;01mreturn\u001B[39;00m model\n",
      "File \u001B[1;32m~\\anaconda3\\envs\\YOLOv7_HRSIDwithgui\\lib\\site-packages\\torch\\hub.py:207\u001B[0m, in \u001B[0;36m_get_cache_or_reload\u001B[1;34m(github, force_reload, trust_repo, calling_fn, verbose, skip_validation)\u001B[0m\n\u001B[0;32m    205\u001B[0m     os\u001B[38;5;241m.\u001B[39mmakedirs(hub_dir)\n\u001B[0;32m    206\u001B[0m \u001B[38;5;66;03m# Parse github repo information\u001B[39;00m\n\u001B[1;32m--> 207\u001B[0m repo_owner, repo_name, ref \u001B[38;5;241m=\u001B[39m \u001B[43m_parse_repo_info\u001B[49m\u001B[43m(\u001B[49m\u001B[43mgithub\u001B[49m\u001B[43m)\u001B[49m\n\u001B[0;32m    208\u001B[0m \u001B[38;5;66;03m# Github allows branch name with slash '/',\u001B[39;00m\n\u001B[0;32m    209\u001B[0m \u001B[38;5;66;03m# this causes confusion with path on both Linux and Windows.\u001B[39;00m\n\u001B[0;32m    210\u001B[0m \u001B[38;5;66;03m# Backslash is not allowed in Github branch name so no need to\u001B[39;00m\n\u001B[0;32m    211\u001B[0m \u001B[38;5;66;03m# to worry about it.\u001B[39;00m\n\u001B[0;32m    212\u001B[0m normalized_br \u001B[38;5;241m=\u001B[39m ref\u001B[38;5;241m.\u001B[39mreplace(\u001B[38;5;124m'\u001B[39m\u001B[38;5;124m/\u001B[39m\u001B[38;5;124m'\u001B[39m, \u001B[38;5;124m'\u001B[39m\u001B[38;5;124m_\u001B[39m\u001B[38;5;124m'\u001B[39m)\n",
      "File \u001B[1;32m~\\anaconda3\\envs\\YOLOv7_HRSIDwithgui\\lib\\site-packages\\torch\\hub.py:143\u001B[0m, in \u001B[0;36m_parse_repo_info\u001B[1;34m(github)\u001B[0m\n\u001B[0;32m    141\u001B[0m \u001B[38;5;28;01melse\u001B[39;00m:\n\u001B[0;32m    142\u001B[0m     repo_info, ref \u001B[38;5;241m=\u001B[39m github, \u001B[38;5;28;01mNone\u001B[39;00m\n\u001B[1;32m--> 143\u001B[0m repo_owner, repo_name \u001B[38;5;241m=\u001B[39m repo_info\u001B[38;5;241m.\u001B[39msplit(\u001B[38;5;124m'\u001B[39m\u001B[38;5;124m/\u001B[39m\u001B[38;5;124m'\u001B[39m)\n\u001B[0;32m    145\u001B[0m \u001B[38;5;28;01mif\u001B[39;00m ref \u001B[38;5;129;01mis\u001B[39;00m \u001B[38;5;28;01mNone\u001B[39;00m:\n\u001B[0;32m    146\u001B[0m     \u001B[38;5;66;03m# The ref wasn't specified by the user, so we need to figure out the\u001B[39;00m\n\u001B[0;32m    147\u001B[0m     \u001B[38;5;66;03m# default branch: main or master. Our assumption is that if main exists\u001B[39;00m\n\u001B[0;32m    148\u001B[0m     \u001B[38;5;66;03m# then it's the default branch, otherwise it's master.\u001B[39;00m\n\u001B[0;32m    149\u001B[0m     \u001B[38;5;28;01mtry\u001B[39;00m:\n",
      "\u001B[1;31mValueError\u001B[0m: not enough values to unpack (expected 2, got 1)"
     ]
    }
   ],
   "source": [
    "\n",
    "import torch\n",
    "model = torch.hub.load('your_project_directory', 'yolov7', pretrained=True, weights_path='logs/best_epoch_weights.pth')\n",
    "\n",
    "\n",
    "img = \"VOCdevkit/VOC2007/JPEGImages/P0001_0_800_7200_8000.jpg\"\n",
    "\n",
    "\n",
    "results = model(img)\n",
    "\n",
    "\n",
    "\n",
    "results.show()\n",
    "\n",
    "\n",
    "\n"
   ]
  },
  {
   "cell_type": "code",
   "execution_count": null,
   "outputs": [],
   "source": [],
   "metadata": {
    "collapsed": false
   }
  }
 ],
 "metadata": {
  "kernelspec": {
   "display_name": "Python 3",
   "language": "python",
   "name": "python3"
  },
  "language_info": {
   "codemirror_mode": {
    "name": "ipython",
    "version": 2
   },
   "file_extension": ".py",
   "mimetype": "text/x-python",
   "name": "python",
   "nbconvert_exporter": "python",
   "pygments_lexer": "ipython2",
   "version": "2.7.6"
  }
 },
 "nbformat": 4,
 "nbformat_minor": 0
}
